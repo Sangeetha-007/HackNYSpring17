{
 "cells": [
  {
   "cell_type": "code",
   "execution_count": 1,
   "metadata": {
    "collapsed": false
   },
   "outputs": [],
   "source": [
    "import json\n",
    "import requests\n",
    "import pickle\n",
    "from time import sleep\n",
    "from datetime import datetime\n",
    "from collections import defaultdict\n",
    "import calendar"
   ]
  },
  {
   "cell_type": "code",
   "execution_count": 2,
   "metadata": {
    "collapsed": true
   },
   "outputs": [],
   "source": [
    "cred = ('user', 'password')\n",
    "fmt = '%Y-%m-%d'\n",
    "\n",
    "#tags we want http://docs.intrinio.com/tags/intrinio-public#home\n",
    "tags = {\n",
    "    \"PE\":\"pricetoearnings\",\n",
    "    \"EPS\": \"basiceps\",\n",
    "    \"PBV\": \"pricetobook\",\n",
    "    \"NM\": \"profitmargin\",\n",
    "    \"NINR\": \"nwctorev\"\n",
    "}\n",
    "\n",
    "#ticks we want (DOW JONES)\n",
    "dowticks = [\"MMM\",\"AAPL\",\"BA\",\"CAT\",\"CVX\"]#,\"CSCO\",\"KO\",\"DD\",\"XOM\",\"GE\",\"HD\",\"IBM\",\"INTC\"#,\"JNJ\",\"JPM\",\"MCD\",\"MRK\",\"NKE\",\"PFE\",\"PG\",\"TRV\",\"UNH\",\"UTX\",\"VZ\",\"V\",\"WMT\",\"DIS\"]\n",
    "#[\"AXP\"]\n",
    "output = defaultdict(dict)\n",
    "quart = {}"
   ]
  },
  {
   "cell_type": "code",
   "execution_count": 9,
   "metadata": {
    "collapsed": false
   },
   "outputs": [
    {
     "name": "stdout",
     "output_type": "stream",
     "text": [
      "running for MMM\n",
      "31\n",
      "2335\n",
      "31\n",
      "31\n",
      "2335\n",
      "running for AAPL\n",
      "32\n",
      "2399\n",
      "32\n",
      "32\n",
      "2399\n",
      "running for BA\n",
      "31\n",
      "2335\n",
      "31\n",
      "31\n",
      "2335\n",
      "running for CAT\n",
      "31\n",
      "2335\n",
      "31\n",
      "31\n",
      "2335\n",
      "running for CVX\n",
      "31\n",
      "2335\n",
      "31\n",
      "31\n",
      "2335\n"
     ]
    }
   ],
   "source": [
    "#download all the data and save it as output\n",
    "for tick in dowticks:\n",
    "    output[tick] = defaultdict(dict)\n",
    "    quart[tick] = defaultdict(list)\n",
    "    print \"running for\",tick\n",
    "    for tagn, tagq in tags.items():\n",
    "        sleep(.5)\n",
    "        r = requests.get(\"https://api.intrinio.com/historical_data?identifier=%s&item=%s\" %(tick,tagq), auth=cred)\n",
    "        tickrawdata = json.loads(r.text)\n",
    "        \n",
    "        #convert to unix timestamp\n",
    "        tickdate = [(datetime.strptime(i[\"date\"],fmt).strftime(\"%s\") , i[\"value\"]) for i in tickrawdata[\"data\"]]\n",
    "        tickrawlen = len((tickrawdata[\"data\"]))\n",
    "        \n",
    "        #save data with the [tag][date]\n",
    "        for date in tickdate:\n",
    "            if date[0] not in output[tick]:\n",
    "                output[tick][date[0]] = {}\n",
    "            \n",
    "            #get a dates of quarterly\n",
    "            if tickrawlen < 100:\n",
    "                quart[tick][tagn].append(date[0]) \n",
    "            output[tick][date[0]][tagn] = date[1]\n",
    "\n",
    "pickle.dump( output, open( \"save.p\", \"wb\" ) )"
   ]
  },
  {
   "cell_type": "code",
   "execution_count": 16,
   "metadata": {
    "collapsed": false
   },
   "outputs": [],
   "source": [
    "output = pickle.load( open( \"save.p\", \"rb\" ) )"
   ]
  },
  {
   "cell_type": "code",
   "execution_count": 17,
   "metadata": {
    "collapsed": false
   },
   "outputs": [
    {
     "name": "stdout",
     "output_type": "stream",
     "text": [
      "error at 1190952000\n",
      "error at 1190952000\n",
      "error at 1190952000\n"
     ]
    }
   ],
   "source": [
    "#give quarterly data to all the data \n",
    "proc = dict(output)\n",
    "\n",
    "for tick in dowticks:\n",
    "    for k in quart[tick].keys():\n",
    "        quart[tick][k] = [int(v) for v in quart[tick][k]]\n",
    "        for d1,d2 in proc[tick].items():\n",
    "            if len(d2.values()) <= 4:\n",
    "                try:\n",
    "                    neardate = str(min([i for i in quart[tick][k] if i <= int(d1)], key=lambda x:abs(x- int(d1))))\n",
    "                    proc[tick][d1][k] = proc[tick][neardate][k]\n",
    "                except ValueError:\n",
    "                    print \"error at\", d1"
   ]
  },
  {
   "cell_type": "code",
   "execution_count": 18,
   "metadata": {
    "collapsed": false
   },
   "outputs": [],
   "source": [
    "#remove old years\n",
    "for tick in dowticks:\n",
    "    for k,v in proc[tick].items():\n",
    "            if datetime.fromtimestamp(int(k)).strftime('%Y') in [2007,2008]:\n",
    "                del proc[tick][k]"
   ]
  },
  {
   "cell_type": "code",
   "execution_count": 19,
   "metadata": {
    "collapsed": false
   },
   "outputs": [
    {
     "name": "stdout",
     "output_type": "stream",
     "text": [
      "Sat\n",
      "Sat\n",
      "Sat\n",
      "Sun\n",
      "Sun\n",
      "Sun\n",
      "Sat\n",
      "Sat\n",
      "Sat\n",
      "Sat\n",
      "Sat\n",
      "Sat\n",
      "Sat\n",
      "Sat\n",
      "Fri\n",
      "Sat\n",
      "Sat\n",
      "Sat\n",
      "Sat\n",
      "Sat\n",
      "Sat\n",
      "Sat\n",
      "Sat\n",
      "Sat\n",
      "Sat\n",
      "Sat\n",
      "Sat\n",
      "Sat\n",
      "Sat\n",
      "Sat\n",
      "Sat\n",
      "Sat\n",
      "Sat\n",
      "Sat\n",
      "Sat\n",
      "Sat\n",
      "Sat\n",
      "Sat\n",
      "Sat\n",
      "Sat\n",
      "Sat\n",
      "Sat\n",
      "Sat\n",
      "Sun\n",
      "Sun\n",
      "Sun\n",
      "Sat\n",
      "Sat\n",
      "Sat\n",
      "Sat\n",
      "Sun\n",
      "Sun\n",
      "Sun\n",
      "Sat\n",
      "Sat\n",
      "Sat\n",
      "Sat\n",
      "Sun\n",
      "Sun\n",
      "Sun\n",
      "Sat\n"
     ]
    }
   ],
   "source": [
    "#remove data that doesn't have all 5 values , should be only sat,sun\n",
    "for tick in dowticks:\n",
    "    for k,v in proc[tick].items():\n",
    "        if len(v) != 5:\n",
    "            print datetime.fromtimestamp(int(k)).strftime('%a')\n",
    "            del proc[tick][k]"
   ]
  },
  {
   "cell_type": "code",
   "execution_count": 20,
   "metadata": {
    "collapsed": true
   },
   "outputs": [],
   "source": [
    "#exported cleaned data\n",
    "pickle.dump(dict(proc), open( \"proc.p\", \"wb\" ) )"
   ]
  },
  {
   "cell_type": "code",
   "execution_count": null,
   "metadata": {
    "collapsed": true
   },
   "outputs": [],
   "source": []
  }
 ],
 "metadata": {
  "kernelspec": {
   "display_name": "Python 2",
   "language": "python",
   "name": "python2"
  },
  "language_info": {
   "codemirror_mode": {
    "name": "ipython",
    "version": 2
   },
   "file_extension": ".py",
   "mimetype": "text/x-python",
   "name": "python",
   "nbconvert_exporter": "python",
   "pygments_lexer": "ipython2",
   "version": "2.7.13"
  }
 },
 "nbformat": 4,
 "nbformat_minor": 2
}
